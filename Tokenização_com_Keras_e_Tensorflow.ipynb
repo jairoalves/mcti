{
  "nbformat": 4,
  "nbformat_minor": 0,
  "metadata": {
    "colab": {
      "name": "Tokenização com Keras e Tensorflow.ipynb",
      "provenance": [],
      "collapsed_sections": [],
      "authorship_tag": "ABX9TyOtKXxEeJJGzTyRlbMzeIpM",
      "include_colab_link": true
    },
    "kernelspec": {
      "name": "python3",
      "display_name": "Python 3"
    }
  },
  "cells": [
    {
      "cell_type": "markdown",
      "metadata": {
        "id": "view-in-github",
        "colab_type": "text"
      },
      "source": [
        "<a href=\"https://colab.research.google.com/github/jairoalves/mcti/blob/main/Tokeniza%C3%A7%C3%A3o_com_Keras_e_Tensorflow.ipynb\" target=\"_parent\"><img src=\"https://colab.research.google.com/assets/colab-badge.svg\" alt=\"Open In Colab\"/></a>"
      ]
    },
    {
      "cell_type": "code",
      "metadata": {
        "id": "wMIjVFqT6WGn"
      },
      "source": [
        "import pandas as pd"
      ],
      "execution_count": 1,
      "outputs": []
    },
    {
      "cell_type": "code",
      "metadata": {
        "id": "JKpDIjKV4_ry"
      },
      "source": [
        "from tensorflow.keras.preprocessing.text import Tokenizer\r\n",
        "from tensorflow.keras.utils import to_categorical"
      ],
      "execution_count": 2,
      "outputs": []
    },
    {
      "cell_type": "code",
      "metadata": {
        "id": "IQXYLb2B5A5v"
      },
      "source": [
        "entrada_textual = ['cada palavra será convertida em um inteiro',\r\n",
        "                   'cada frase será convertida em um vetor inteiro',\r\n",
        "                   'estamos supondo corpus previamente limpo']"
      ],
      "execution_count": 3,
      "outputs": []
    },
    {
      "cell_type": "markdown",
      "metadata": {
        "id": "BCEXmS2m-ibb"
      },
      "source": [
        "Primeiro fazemos o mapeamento das palavras para códigos Inteiros"
      ]
    },
    {
      "cell_type": "code",
      "metadata": {
        "id": "_OI8p5Zw5yzi"
      },
      "source": [
        "tokeniza_entrada = Tokenizer()\r\n",
        "tokeniza_entrada.fit_on_texts(entrada_textual)"
      ],
      "execution_count": 4,
      "outputs": []
    },
    {
      "cell_type": "code",
      "metadata": {
        "colab": {
          "base_uri": "https://localhost:8080/"
        },
        "id": "0PS7NUth6Eal",
        "outputId": "695aa144-b579-4d4f-8bdc-c4cff7eb2268"
      },
      "source": [
        "print(\"Mapeamento 'palavra' -> 'inteiro' gerado:\")\r\n",
        "print(tokeniza_entrada.word_index)"
      ],
      "execution_count": 5,
      "outputs": [
        {
          "output_type": "stream",
          "text": [
            "Mapeamento 'palavra' -> 'inteiro' gerado:\n",
            "{'cada': 1, 'será': 2, 'convertida': 3, 'em': 4, 'um': 5, 'inteiro': 6, 'palavra': 7, 'frase': 8, 'vetor': 9, 'estamos': 10, 'supondo': 11, 'corpus': 12, 'previamente': 13, 'limpo': 14}\n"
          ],
          "name": "stdout"
        }
      ]
    },
    {
      "cell_type": "markdown",
      "metadata": {
        "id": "PbHCrMDA-u4h"
      },
      "source": [
        "A seguir, fazemos a conversão das frase da entrada para vetores de inteiros"
      ]
    },
    {
      "cell_type": "code",
      "metadata": {
        "colab": {
          "base_uri": "https://localhost:8080/"
        },
        "id": "GMpfsDHO5eOy",
        "outputId": "1a404b13-c87e-4c6f-f2d9-aa6345b129dc"
      },
      "source": [
        "entrada_vetorizada_em_inteiros = tokeniza_entrada.texts_to_sequences(entrada_textual)\r\n",
        "print('Vetores gerados:')\r\n",
        "print('\\n'.join(map(str, entrada_vetorizada_em_inteiros)))"
      ],
      "execution_count": 6,
      "outputs": [
        {
          "output_type": "stream",
          "text": [
            "Vetores gerados:\n",
            "[1, 7, 2, 3, 4, 5, 6]\n",
            "[1, 8, 2, 3, 4, 5, 9, 6]\n",
            "[10, 11, 12, 13, 14]\n"
          ],
          "name": "stdout"
        }
      ]
    },
    {
      "cell_type": "markdown",
      "metadata": {
        "id": "q_OmzHEu-11H"
      },
      "source": [
        "Por fim, convertemos os vetores em matrizes de 0s e 1s, vetores One-Hot.\r\n",
        "\r\n",
        "Esses são os tipos de entrada esperados normalmente para LSTMs."
      ]
    },
    {
      "cell_type": "code",
      "metadata": {
        "colab": {
          "base_uri": "https://localhost:8080/"
        },
        "id": "dAtoctQr7wDm",
        "outputId": "36593402-cd63-49fc-98f2-958e75c0501c"
      },
      "source": [
        "primeira_frase_int = entrada_vetorizada_em_inteiros[0]\r\n",
        "vetor_one_hot_primeira_frase = to_categorical(primeira_frase_int)\r\n",
        "vetor_one_hot_primeira_frase"
      ],
      "execution_count": 7,
      "outputs": [
        {
          "output_type": "execute_result",
          "data": {
            "text/plain": [
              "array([[0., 1., 0., 0., 0., 0., 0., 0.],\n",
              "       [0., 0., 0., 0., 0., 0., 0., 1.],\n",
              "       [0., 0., 1., 0., 0., 0., 0., 0.],\n",
              "       [0., 0., 0., 1., 0., 0., 0., 0.],\n",
              "       [0., 0., 0., 0., 1., 0., 0., 0.],\n",
              "       [0., 0., 0., 0., 0., 1., 0., 0.],\n",
              "       [0., 0., 0., 0., 0., 0., 1., 0.]], dtype=float32)"
            ]
          },
          "metadata": {
            "tags": []
          },
          "execution_count": 7
        }
      ]
    },
    {
      "cell_type": "code",
      "metadata": {
        "id": "MVBA78Lm_6SK"
      },
      "source": [
        ""
      ],
      "execution_count": 7,
      "outputs": []
    },
    {
      "cell_type": "code",
      "metadata": {
        "id": "ciaELi-a-AZl"
      },
      "source": [
        ""
      ],
      "execution_count": 7,
      "outputs": []
    }
  ]
}